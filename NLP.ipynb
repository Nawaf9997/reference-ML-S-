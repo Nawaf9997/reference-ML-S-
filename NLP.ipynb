{
  "metadata": {
    "kernelspec": {
      "language": "python",
      "display_name": "Python 3",
      "name": "python3"
    },
    "language_info": {
      "pygments_lexer": "ipython3",
      "nbconvert_exporter": "python",
      "version": "3.6.4",
      "file_extension": ".py",
      "codemirror_mode": {
        "name": "ipython",
        "version": 3
      },
      "name": "python",
      "mimetype": "text/x-python"
    },
    "colab": {
      "provenance": [],
      "include_colab_link": true
    }
  },
  "nbformat_minor": 0,
  "nbformat": 4,
  "cells": [
    {
      "cell_type": "markdown",
      "metadata": {
        "id": "view-in-github",
        "colab_type": "text"
      },
      "source": [
        "<a href=\"https://colab.research.google.com/github/Nawaf9997/reference-ML-S-/blob/main/NLP.ipynb\" target=\"_parent\"><img src=\"https://colab.research.google.com/assets/colab-badge.svg\" alt=\"Open In Colab\"/></a>"
      ]
    },
    {
      "cell_type": "markdown",
      "source": [
        "# Natural Language Processing"
      ],
      "metadata": {
        "id": "81qHr79dYGV2"
      }
    },
    {
      "cell_type": "markdown",
      "source": [
        "Natural language processing (NLP) is a subfield of linguistics, computer science, and artificial intelligence concerned with the interactions between computers and human language, in particular how to program computers to process and analyze large amounts of natural language data."
      ],
      "metadata": {
        "id": "zqYw8cRJYMit"
      }
    },
    {
      "cell_type": "code",
      "source": [
        "# import the necessary libraries\n",
        "import nltk\n",
        "import string\n",
        "import re\n"
      ],
      "metadata": {
        "id": "izuXdYR4R0iW"
      },
      "execution_count": 1,
      "outputs": []
    },
    {
      "cell_type": "markdown",
      "source": [
        "#Text Lowercase\n",
        "We lowercase the text to reduce the size of the vocabulary of our text data."
      ],
      "metadata": {
        "id": "DMpflCicR3Ji"
      }
    },
    {
      "cell_type": "code",
      "source": [
        "def text_lowercase(text):\n",
        "    return text.lower()\n",
        "\n",
        "input_str = \"Mosharafa obtained his primary certificate in 1910, ranking second nationwide. He obtained his Baccalaureate at the age of 16, becoming the youngest student at that time to be awarded such a certificate and, again, ranking second. He preferred to enroll in the Teachers' College rather than the faculties of Medicine or Engineering due to his deep interest in mathematics.\";\n",
        "text_lowercase(input_str)\n"
      ],
      "metadata": {
        "colab": {
          "base_uri": "https://localhost:8080/",
          "height": 70
        },
        "id": "SDk1DNdeR0-E",
        "outputId": "12eeab07-58f8-4bfe-aa03-81287ea3b499"
      },
      "execution_count": 8,
      "outputs": [
        {
          "output_type": "execute_result",
          "data": {
            "text/plain": [
              "\"mosharafa obtained his primary certificate in 1910, ranking second nationwide. he obtained his baccalaureate at the age of 16, becoming the youngest student at that time to be awarded such a certificate and, again, ranking second. he preferred to enroll in the teachers' college rather than the faculties of medicine or engineering due to his deep interest in mathematics.\""
            ],
            "application/vnd.google.colaboratory.intrinsic+json": {
              "type": "string"
            }
          },
          "metadata": {},
          "execution_count": 8
        }
      ]
    },
    {
      "cell_type": "markdown",
      "source": [
        "#Remove numbers\n",
        "We can either remove numbers or convert the numbers into their textual representations.\n",
        "We can use regular expressions to remove the numbers."
      ],
      "metadata": {
        "id": "lzFYKoKVR56U"
      }
    },
    {
      "cell_type": "code",
      "source": [
        "# Remove numbers\n",
        "def remove_numbers(text):\n",
        "    result = re.sub(r'\\d+', '', text)\n",
        "    return result\n",
        "\n",
        "input_str = \"Mosharafa 55 obtained his primary certificate in 1910, ranking second nationwide. He obtained his Baccalaureate at the age of 16, becoming the youngest student at that time to be awarded such a certificate and, again, ranking second. He preferred to enroll in the Teachers' College rather than the faculties of Medicine or Engineering due to his deep interest in mathematics.\"\n",
        "remove_numbers(input_str)\n"
      ],
      "metadata": {
        "colab": {
          "base_uri": "https://localhost:8080/",
          "height": 70
        },
        "id": "ycFDw_CqR8s8",
        "outputId": "7e4612be-06f0-4bff-fc93-afb4e0c0db11"
      },
      "execution_count": 10,
      "outputs": [
        {
          "output_type": "execute_result",
          "data": {
            "text/plain": [
              "\"Mosharafa  obtained his primary certificate in , ranking second nationwide. He obtained his Baccalaureate at the age of , becoming the youngest student at that time to be awarded such a certificate and, again, ranking second. He preferred to enroll in the Teachers' College rather than the faculties of Medicine or Engineering due to his deep interest in mathematics.\""
            ],
            "application/vnd.google.colaboratory.intrinsic+json": {
              "type": "string"
            }
          },
          "metadata": {},
          "execution_count": 10
        }
      ]
    },
    {
      "cell_type": "markdown",
      "source": [
        "We can also convert the numbers into words. This can be done by using the inflect library."
      ],
      "metadata": {
        "id": "I31OxgwtR-KH"
      }
    },
    {
      "cell_type": "code",
      "source": [
        "# import the inflect library\n",
        "import inflect\n",
        "p = inflect.engine()\n",
        "\n",
        "# convert number into words\n",
        "def convert_number(text):\n",
        "    # split string into list of words\n",
        "    temp_str = text.split()\n",
        "    # initialise empty list\n",
        "    new_string = []\n",
        "\n",
        "    for word in temp_str:\n",
        "        # if word is a digit, convert the digit\n",
        "        # to numbers and append into the new_string list\n",
        "        if word.isdigit():\n",
        "            temp = p.number_to_words(word)\n",
        "            new_string.append(temp)\n",
        "\n",
        "        # append the word as it is\n",
        "        else:\n",
        "            new_string.append(word)\n",
        "\n",
        "    # join the words of new_string to form a string\n",
        "    temp_str = ' '.join(new_string)\n",
        "    return temp_str\n",
        "\n",
        "input_str = 'There are 3 balls in this bag, and 12 in the other one.'\n",
        "convert_number(input_str)\n"
      ],
      "metadata": {
        "colab": {
          "base_uri": "https://localhost:8080/",
          "height": 35
        },
        "id": "1EESUJbSSA8v",
        "outputId": "27e911a5-a512-4954-a51b-0528bdaeba8f"
      },
      "execution_count": 11,
      "outputs": [
        {
          "output_type": "execute_result",
          "data": {
            "text/plain": [
              "'There are three balls in this bag, and twelve in the other one.'"
            ],
            "application/vnd.google.colaboratory.intrinsic+json": {
              "type": "string"
            }
          },
          "metadata": {},
          "execution_count": 11
        }
      ]
    },
    {
      "cell_type": "markdown",
      "source": [
        "#Remove punctuation\n",
        "We remove punctuations so that we don’t have different forms of the same word. If we don’t remove the punctuation, then been. been, been! will be treated separately."
      ],
      "metadata": {
        "id": "kjKpTc8tSCgg"
      }
    },
    {
      "cell_type": "code",
      "source": [
        "# remove punctuation\n",
        "def remove_punctuation(text):\n",
        "    translator = str.maketrans('', '', string.punctuation)\n",
        "    return text.translate(translator)\n",
        "input_str = \"Hey, did you know that the summer break is coming? Amazing right !! It's only 5 more days !!\"\n",
        "remove_punctuation(input_str)\n"
      ],
      "metadata": {
        "colab": {
          "base_uri": "https://localhost:8080/",
          "height": 35
        },
        "id": "8QoAZORlSFTJ",
        "outputId": "9d727d86-08f9-42ad-e6e5-7fa72050ea6f"
      },
      "execution_count": 12,
      "outputs": [
        {
          "output_type": "execute_result",
          "data": {
            "text/plain": [
              "'Hey did you know that the summer break is coming Amazing right  Its only 5 more days '"
            ],
            "application/vnd.google.colaboratory.intrinsic+json": {
              "type": "string"
            }
          },
          "metadata": {},
          "execution_count": 12
        }
      ]
    },
    {
      "cell_type": "markdown",
      "source": [
        "#Remove whitespace\n",
        "\n",
        "We can use the join and split function to remove all the white spaces in a string."
      ],
      "metadata": {
        "id": "RXRU4Y3tSITw"
      }
    },
    {
      "cell_type": "code",
      "source": [
        "# remove whitespace from text\n",
        "def remove_whitespace(text):\n",
        "    return  \" \".join(text.split())\n",
        "input_str = \"we don't need   the given questions\"\n",
        "remove_whitespace(input_str)\n"
      ],
      "metadata": {
        "id": "QsxnUrh9SNPD",
        "outputId": "48459de6-0b19-4365-e52a-fa33968d9a35",
        "colab": {
          "base_uri": "https://localhost:8080/",
          "height": 35
        }
      },
      "execution_count": 13,
      "outputs": [
        {
          "output_type": "execute_result",
          "data": {
            "text/plain": [
              "\"we don't need the given questions\""
            ],
            "application/vnd.google.colaboratory.intrinsic+json": {
              "type": "string"
            }
          },
          "metadata": {},
          "execution_count": 13
        }
      ]
    },
    {
      "cell_type": "markdown",
      "source": [
        "# Remove default stopwords\n",
        "Stopwords are words that do not contribute to the meaning of a sentence. Hence, they can safely be removed without causing any change in the meaning of the sentence. The NLTK library has a set of stopwords and we can use these to remove stopwords from our text and return a list of word tokens."
      ],
      "metadata": {
        "id": "2u4RoREWSPeR"
      }
    },
    {
      "cell_type": "code",
      "source": [
        "nltk.download('stopwords')\n",
        "nltk.download('punkt')"
      ],
      "metadata": {
        "id": "eBLKFUXru-Ds",
        "outputId": "6fe39cc4-5056-4414-ed35-937e5beabf3d",
        "colab": {
          "base_uri": "https://localhost:8080/"
        }
      },
      "execution_count": 16,
      "outputs": [
        {
          "output_type": "stream",
          "name": "stderr",
          "text": [
            "[nltk_data] Downloading package stopwords to /root/nltk_data...\n",
            "[nltk_data]   Unzipping corpora/stopwords.zip.\n",
            "[nltk_data] Downloading package punkt to /root/nltk_data...\n",
            "[nltk_data]   Unzipping tokenizers/punkt.zip.\n"
          ]
        },
        {
          "output_type": "execute_result",
          "data": {
            "text/plain": [
              "True"
            ]
          },
          "metadata": {},
          "execution_count": 16
        }
      ]
    },
    {
      "cell_type": "code",
      "source": [
        "from nltk.corpus import stopwords\n",
        "from nltk.tokenize import word_tokenize\n",
        "\n",
        "# remove stopwords function\n",
        "def remove_stopwords(text):\n",
        "    stop_words = set(stopwords.words(\"english\"))\n",
        "    word_tokens = word_tokenize(text)\n",
        "    filtered_text = [word for word in word_tokens if word not in stop_words]\n",
        "    return filtered_text\n",
        "\n",
        "example_text = \"This is a sample sentence and we are going to remove the stopwords from this.\"\n",
        "remove_stopwords(example_text)\n"
      ],
      "metadata": {
        "id": "7tm4LId9SRjP",
        "outputId": "6fcf8b64-63cb-4af2-db9c-752b03734c8b",
        "colab": {
          "base_uri": "https://localhost:8080/"
        }
      },
      "execution_count": 17,
      "outputs": [
        {
          "output_type": "execute_result",
          "data": {
            "text/plain": [
              "['This', 'sample', 'sentence', 'going', 'remove', 'stopwords', '.']"
            ]
          },
          "metadata": {},
          "execution_count": 17
        }
      ]
    }
  ]
}