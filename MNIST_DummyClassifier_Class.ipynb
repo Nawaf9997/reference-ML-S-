{
  "nbformat": 4,
  "nbformat_minor": 0,
  "metadata": {
    "colab": {
      "provenance": [],
      "authorship_tag": "ABX9TyOReKvItmaQGTdmbhxt4LSo",
      "include_colab_link": true
    },
    "kernelspec": {
      "name": "python3",
      "display_name": "Python 3"
    },
    "language_info": {
      "name": "python"
    }
  },
  "cells": [
    {
      "cell_type": "markdown",
      "metadata": {
        "id": "view-in-github",
        "colab_type": "text"
      },
      "source": [
        "<a href=\"https://colab.research.google.com/github/Nawaf9997/reference-ML-S-/blob/main/MNIST_DummyClassifier_Class.ipynb\" target=\"_parent\"><img src=\"https://colab.research.google.com/assets/colab-badge.svg\" alt=\"Open In Colab\"/></a>"
      ]
    },
    {
      "cell_type": "code",
      "execution_count": 1,
      "metadata": {
        "id": "vCq5ZBgWTLGo"
      },
      "outputs": [],
      "source": [
        "\n",
        "# imports\n",
        "import numpy as np\n",
        "import sklearn\n",
        "import os\n",
        "import matplotlib as mpl\n",
        "import matplotlib.pyplot as plt\n",
        "mpl.rc('axes', labelsize=14)\n",
        "mpl.rc('xtick', labelsize=12)\n",
        "mpl.rc('ytick', labelsize=12)\n",
        "\n",
        "# Establish a fixed random seed for consistent reproducibility in random processes\n",
        "np.random.seed(42)\n"
      ]
    },
    {
      "cell_type": "code",
      "source": [
        "from sklearn.datasets import fetch_openml\n",
        "mnist = fetch_openml('mnist_784', version=1, as_frame=False)\n",
        "print(mnist.keys())"
      ],
      "metadata": {
        "colab": {
          "base_uri": "https://localhost:8080/"
        },
        "id": "xCNqnmM2Tb9Z",
        "outputId": "892fba27-a826-4496-f5f3-e62359a78f3a"
      },
      "execution_count": 3,
      "outputs": [
        {
          "output_type": "stream",
          "name": "stderr",
          "text": [
            "/usr/local/lib/python3.10/dist-packages/sklearn/datasets/_openml.py:1022: FutureWarning: The default value of `parser` will change from `'liac-arff'` to `'auto'` in 1.4. You can set `parser='auto'` to silence this warning. Therefore, an `ImportError` will be raised from 1.4 if the dataset is dense and pandas is not installed. Note that the pandas parser may return different data types. See the Notes Section in fetch_openml's API doc for details.\n",
            "  warn(\n"
          ]
        },
        {
          "output_type": "stream",
          "name": "stdout",
          "text": [
            "dict_keys(['data', 'target', 'frame', 'categories', 'feature_names', 'target_names', 'DESCR', 'details', 'url'])\n"
          ]
        }
      ]
    },
    {
      "cell_type": "code",
      "source": [
        "X , y = mnist['data'], mnist['target']\n",
        "print(X.shape)\n"
      ],
      "metadata": {
        "id": "DO_CKMoOTxdr"
      },
      "execution_count": 5,
      "outputs": []
    },
    {
      "cell_type": "code",
      "source": [
        "print(y.shape)\n"
      ],
      "metadata": {
        "colab": {
          "base_uri": "https://localhost:8080/"
        },
        "id": "egodVgQmT-Td",
        "outputId": "b52232de-ea58-4bad-cb4f-4c33a68f0ea6"
      },
      "execution_count": 7,
      "outputs": [
        {
          "output_type": "stream",
          "name": "stdout",
          "text": [
            "(70000,)\n"
          ]
        }
      ]
    },
    {
      "cell_type": "code",
      "source": [
        "print(28 * 28)"
      ],
      "metadata": {
        "colab": {
          "base_uri": "https://localhost:8080/"
        },
        "id": "PvnuUU3JUHRg",
        "outputId": "5b9ce8b2-2347-4dd2-d5fd-92f50e4963af"
      },
      "execution_count": 6,
      "outputs": [
        {
          "output_type": "stream",
          "name": "stdout",
          "text": [
            "784\n"
          ]
        }
      ]
    },
    {
      "cell_type": "code",
      "source": [
        "# Select a digit from the MNIST dataset\n",
        "some_digit = X[10]\n",
        "\n",
        "# Reshape the flattened 1D array into a 2D array representing a 28x28 image\n",
        "some_digit_image = some_digit.reshape(28, 28)\n",
        "\n",
        "# Display the digit using Matplotlib with a binary color map (black and white)\n",
        "plt.imshow(some_digit_image, cmap=mpl.cm.binary)\n",
        "\n",
        "# Turn off axis labels\n",
        "plt.axis(\"off\")\n",
        "\n",
        "# Save the figure with the name \"some_digit_plot.png\"\n",
        "plt.savefig(\"some_digit_plot.png\")\n",
        "\n",
        "# Show the plotted image\n",
        "plt.show()"
      ],
      "metadata": {
        "colab": {
          "base_uri": "https://localhost:8080/",
          "height": 406
        },
        "id": "DYBpcwwgULKq",
        "outputId": "63c5f629-e972-497f-a198-f88bb9ae5465"
      },
      "execution_count": 8,
      "outputs": [
        {
          "output_type": "display_data",
          "data": {
            "text/plain": [
              "<Figure size 640x480 with 1 Axes>"
            ],
            "image/png": "[encoded data removed]"
          },
          "metadata": {}
        }
      ]
    },
    {
      "cell_type": "code",
      "source": [
        "# Display the label of the first digit in the MNIST dataset\n",
        "print(\"Label of the first digit:\", y[10])\n"
      ],
      "metadata": {
        "colab": {
          "base_uri": "https://localhost:8080/"
        },
        "id": "_mZwf3DGUSgk",
        "outputId": "39799e7a-4f18-46d4-a0f6-6f1522bbd9b1"
      },
      "execution_count": 9,
      "outputs": [
        {
          "output_type": "stream",
          "name": "stdout",
          "text": [
            "Label of the first digit: 3\n"
          ]
        }
      ]
    },
    {
      "cell_type": "code",
      "source": [
        "y = y.astype(np.uint8)\n"
      ],
      "metadata": {
        "id": "B8PvoovuUTYC"
      },
      "execution_count": 10,
      "outputs": []
    },
    {
      "cell_type": "code",
      "source": [
        "x_train , x_test , y_train , y_test = X[:60000] , X[60000:] , y[:60000] , y[60000:]"
      ],
      "metadata": {
        "id": "6uIrvqB7UV76"
      },
      "execution_count": 12,
      "outputs": []
    },
    {
      "cell_type": "code",
      "source": [
        "y_train_5 = (y_train == 5)\n",
        "y_test_5 = (y_test == 5)"
      ],
      "metadata": {
        "id": "Rm53Mx35Ucb_"
      },
      "execution_count": 16,
      "outputs": []
    }
  ]
}