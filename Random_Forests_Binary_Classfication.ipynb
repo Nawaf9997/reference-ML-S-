{
  "nbformat": 4,
  "nbformat_minor": 0,
  "metadata": {
    "colab": {
      "provenance": [],
      "authorship_tag": "ABX9TyMbjeJKf7rCYiML9Lw1wycQ",
      "include_colab_link": true
    },
    "kernelspec": {
      "name": "python3",
      "display_name": "Python 3"
    },
    "language_info": {
      "name": "python"
    }
  },
  "cells": [
    {
      "cell_type": "markdown",
      "metadata": {
        "id": "view-in-github",
        "colab_type": "text"
      },
      "source": [
        "<a href=\"https://colab.research.google.com/github/Nawaf9997/reference-ML-S-/blob/main/Random_Forests_Binary_Classfication.ipynb\" target=\"_parent\"><img src=\"https://colab.research.google.com/assets/colab-badge.svg\" alt=\"Open In Colab\"/></a>"
      ]
    },
    {
      "cell_type": "code",
      "execution_count": 2,
      "metadata": {
        "colab": {
          "base_uri": "https://localhost:8080/"
        },
        "id": "XqpCRQyYWVQW",
        "outputId": "f6ec80d1-9b4b-4a3b-c651-5964ba7ff2f7"
      },
      "outputs": [
        {
          "output_type": "execute_result",
          "data": {
            "text/plain": [
              "dict_keys(['data', 'target', 'frame', 'categories', 'feature_names', 'target_names', 'DESCR', 'details', 'url'])"
            ]
          },
          "metadata": {},
          "execution_count": 2
        }
      ],
      "source": [
        "# Importing the fetch_openml function from scikit-learn's datasets module\n",
        "from sklearn.datasets import fetch_openml\n",
        "\n",
        "# Fetching the MNIST dataset using the fetch_openml function\n",
        "mnist = fetch_openml('mnist_784', version=1, as_frame=False)\n",
        "\n",
        "# Printing the keys of the fetched dataset\n",
        "mnist.keys()\n"
      ]
    },
    {
      "cell_type": "code",
      "source": [
        "# Assigning the input features to X and the target labels to y\n",
        "X, y = mnist[\"data\"], mnist[\"target\"]\n",
        "\n",
        "# Printing the shape of the input features X\n",
        "X.shape\n"
      ],
      "metadata": {
        "colab": {
          "base_uri": "https://localhost:8080/"
        },
        "id": "aAD9ld4zWdAh",
        "outputId": "72e874ed-a929-430f-8426-bf0f85c16f7c"
      },
      "execution_count": 3,
      "outputs": [
        {
          "output_type": "execute_result",
          "data": {
            "text/plain": [
              "(70000, 784)"
            ]
          },
          "metadata": {},
          "execution_count": 3
        }
      ]
    },
    {
      "cell_type": "code",
      "source": [
        "28 * 28"
      ],
      "metadata": {
        "colab": {
          "base_uri": "https://localhost:8080/"
        },
        "id": "lVYKlWWuWiAL",
        "outputId": "97a2f513-23cb-46b2-87ea-6eb489d3b5a8"
      },
      "execution_count": 4,
      "outputs": [
        {
          "output_type": "execute_result",
          "data": {
            "text/plain": [
              "784"
            ]
          },
          "metadata": {},
          "execution_count": 4
        }
      ]
    },
    {
      "cell_type": "code",
      "source": [
        "# Importing necessary libraries\n",
        "%matplotlib inline\n",
        "import matplotlib as mpl\n",
        "import matplotlib.pyplot as plt\n",
        "\n",
        "# Setting font sizes for axes labels and ticks\n",
        "mpl.rc('axes', labelsize=14)\n",
        "mpl.rc('xtick', labelsize=12)\n",
        "mpl.rc('ytick', labelsize=12)\n",
        "\n",
        "# Displaying a digit from the dataset\n",
        "some_digit = X[8]\n",
        "some_digit_image = some_digit.reshape(28, 28)\n",
        "plt.imshow(some_digit_image, cmap=mpl.cm.binary)\n",
        "plt.axis(\"off\")\n",
        "plt.show()\n"
      ],
      "metadata": {
        "colab": {
          "base_uri": "https://localhost:8080/",
          "height": 406
        },
        "id": "M8z9Md-QWjP_",
        "outputId": "1bad6e21-f4ed-4bc0-c9c9-5f257aa22a5e"
      },
      "execution_count": 5,
      "outputs": [
        {
          "output_type": "display_data",
          "data": {
            "text/plain": [
              "<Figure size 640x480 with 1 Axes>"
            ],
            "image/png": "[encoded data removed]"
          },
          "metadata": {}
        }
      ]
    },
    {
      "cell_type": "code",
      "source": [
        "# Displaying the label corresponding to the digit\n",
        "y[8]\n"
      ],
      "metadata": {
        "colab": {
          "base_uri": "https://localhost:8080/",
          "height": 35
        },
        "id": "UZP37N7CWofG",
        "outputId": "4aa9e8be-5097-4275-a723-983ef6f1bb5f"
      },
      "execution_count": 6,
      "outputs": [
        {
          "output_type": "execute_result",
          "data": {
            "text/plain": [
              "'1'"
            ],
            "application/vnd.google.colaboratory.intrinsic+json": {
              "type": "string"
            }
          },
          "metadata": {},
          "execution_count": 6
        }
      ]
    },
    {
      "cell_type": "code",
      "source": [
        "# Importing the NumPy library\n",
        "import numpy as np\n",
        "\n",
        "# Converting the target labels to unsigned integers\n",
        "y = y.astype(np.uint8)\n",
        "\n"
      ],
      "metadata": {
        "id": "kR-sMpmYWp2W"
      },
      "execution_count": 7,
      "outputs": []
    },
    {
      "cell_type": "code",
      "source": [
        "# Splitting the dataset into training and test sets\n",
        "X_train, X_test, y_train, y_test = X[:60000], X[60000:], y[:60000], y[60000:]\n"
      ],
      "metadata": {
        "id": "0eQ4TCfrWzgs"
      },
      "execution_count": null,
      "outputs": []
    }
  ]
}